{
 "cells": [
  {
   "cell_type": "markdown",
   "metadata": {},
   "source": [
    "Histograms\n",
    "\n",
    "In this article we'll have a look at histograms, binnings and density plots. Let's create a simple histogram using random data:"
   ]
  },
  {
   "cell_type": "code",
   "execution_count": 1,
   "metadata": {},
   "outputs": [
    {
     "data": {
      "text/plain": [
       "(array([  9.,  30., 106., 188., 273., 215., 117.,  48.,  11.,   3.]),\n",
       " array([-3.09166593, -2.42446317, -1.7572604 , -1.09005764, -0.42285488,\n",
       "         0.24434788,  0.91155064,  1.57875341,  2.24595617,  2.91315893,\n",
       "         3.58036169]),\n",
       " <a list of 10 Patch objects>)"
      ]
     },
     "execution_count": 1,
     "metadata": {},
     "output_type": "execute_result"
    },
    {
     "data": {
      "image/png": "[encoded data removed]",
      "text/plain": [
       "<Figure size 432x288 with 1 Axes>"
      ]
     },
     "metadata": {
      "needs_background": "light"
     },
     "output_type": "display_data"
    }
   ],
   "source": [
    "%matplotlib inline\n",
    "import matplotlib as mpl\n",
    "import matplotlib.pyplot as plt\n",
    "import numpy as np\n",
    "\n",
    "# Let's create some random data.\n",
    "data = np.random.randn(1000)\n",
    "\n",
    "# We use the hist method to create a histogram.\n",
    "fig, ax = plt.subplots()\n",
    "ax.hist(data)"
   ]
  },
  {
   "cell_type": "markdown",
   "metadata": {},
   "source": [
    "There are lots of arguments you can set to fine-tune your chart. You can change the number of bins, which is by default set to 10, as you can see above. The bins are of equal width. Let's set the bin argument to some other values:"
   ]
  },
  {
   "cell_type": "code",
   "execution_count": 2,
   "metadata": {},
   "outputs": [
    {
     "data": {
      "text/plain": [
       "(array([195., 713.,  92.]),\n",
       " array([-3.09166593, -0.86765672,  1.35635249,  3.58036169]),\n",
       " <a list of 3 Patch objects>)"
      ]
     },
     "execution_count": 2,
     "metadata": {},
     "output_type": "execute_result"
    },
    {
     "data": {
      "image/png": "[encoded data removed]",
      "text/plain": [
       "<Figure size 432x288 with 1 Axes>"
      ]
     },
     "metadata": {
      "needs_background": "light"
     },
     "output_type": "display_data"
    }
   ],
   "source": [
    "# 3 bins\n",
    "fig, ax = plt.subplots()\n",
    "ax.hist(data, bins=3)"
   ]
  },
  {
   "cell_type": "code",
   "execution_count": 3,
   "metadata": {},
   "outputs": [
    {
     "data": {
      "text/plain": [
       "(array([ 2.,  2.,  5.,  7.,  9., 14., 29., 34., 43., 50., 63., 75., 93.,\n",
       "        92., 88., 77., 80., 58., 53., 34., 30., 18., 18., 12.,  7.,  2.,\n",
       "         2.,  2.,  0.,  1.]),\n",
       " array([-3.09166593, -2.86926501, -2.64686409, -2.42446317, -2.20206225,\n",
       "        -1.97966132, -1.7572604 , -1.53485948, -1.31245856, -1.09005764,\n",
       "        -0.86765672, -0.6452558 , -0.42285488, -0.20045396,  0.02194696,\n",
       "         0.24434788,  0.4667488 ,  0.68914972,  0.91155064,  1.13395156,\n",
       "         1.35635249,  1.57875341,  1.80115433,  2.02355525,  2.24595617,\n",
       "         2.46835709,  2.69075801,  2.91315893,  3.13555985,  3.35796077,\n",
       "         3.58036169]),\n",
       " <a list of 30 Patch objects>)"
      ]
     },
     "execution_count": 3,
     "metadata": {},
     "output_type": "execute_result"
    },
    {
     "data": {
      "image/png": "[encoded data removed]",
      "text/plain": [
       "<Figure size 432x288 with 1 Axes>"
      ]
     },
     "metadata": {
      "needs_background": "light"
     },
     "output_type": "display_data"
    }
   ],
   "source": [
    "# 30 bins\n",
    "fig, ax = plt.subplots()\n",
    "ax.hist(data, bins=30)"
   ]
  },
  {
   "cell_type": "markdown",
   "metadata": {},
   "source": [
    "You can change the color of the bins:"
   ]
  },
  {
   "cell_type": "code",
   "execution_count": 4,
   "metadata": {},
   "outputs": [
    {
     "data": {
      "text/plain": [
       "(array([  9.,  30., 106., 188., 273., 215., 117.,  48.,  11.,   3.]),\n",
       " array([-3.09166593, -2.42446317, -1.7572604 , -1.09005764, -0.42285488,\n",
       "         0.24434788,  0.91155064,  1.57875341,  2.24595617,  2.91315893,\n",
       "         3.58036169]),\n",
       " <a list of 10 Patch objects>)"
      ]
     },
     "execution_count": 4,
     "metadata": {},
     "output_type": "execute_result"
    },
    {
     "data": {
      "image/png": "[encoded data removed]",
      "text/plain": [
       "<Figure size 432x288 with 1 Axes>"
      ]
     },
     "metadata": {
      "needs_background": "light"
     },
     "output_type": "display_data"
    }
   ],
   "source": [
    "# green color\n",
    "fig, ax = plt.subplots()\n",
    "ax.hist(data, color='g')"
   ]
  },
  {
   "cell_type": "markdown",
   "metadata": {},
   "source": [
    "You can change the type of the histogram. To do that, you just have to set the histtype argument to one of the predefined values. By default it's set to 'bar'. Here it's set to 'step':"
   ]
  },
  {
   "cell_type": "code",
   "execution_count": 5,
   "metadata": {},
   "outputs": [
    {
     "data": {
      "text/plain": [
       "(array([  9.,  30., 106., 188., 273., 215., 117.,  48.,  11.,   3.]),\n",
       " array([-3.09166593, -2.42446317, -1.7572604 , -1.09005764, -0.42285488,\n",
       "         0.24434788,  0.91155064,  1.57875341,  2.24595617,  2.91315893,\n",
       "         3.58036169]),\n",
       " <a list of 1 Patch objects>)"
      ]
     },
     "execution_count": 5,
     "metadata": {},
     "output_type": "execute_result"
    },
    {
     "data": {
      "image/png": "[encoded data removed]",
      "text/plain": [
       "<Figure size 432x288 with 1 Axes>"
      ]
     },
     "metadata": {
      "needs_background": "light"
     },
     "output_type": "display_data"
    }
   ],
   "source": [
    "# step histtype\n",
    "fig, ax = plt.subplots()\n",
    "ax.hist(data, histtype='step')"
   ]
  },
  {
   "cell_type": "markdown",
   "metadata": {},
   "source": [
    "By default the histogram is vertical, but you can change its orientation to horizontal:"
   ]
  },
  {
   "cell_type": "code",
   "execution_count": 6,
   "metadata": {},
   "outputs": [
    {
     "data": {
      "text/plain": [
       "(array([  9.,  30., 106., 188., 273., 215., 117.,  48.,  11.,   3.]),\n",
       " array([-3.09166593, -2.42446317, -1.7572604 , -1.09005764, -0.42285488,\n",
       "         0.24434788,  0.91155064,  1.57875341,  2.24595617,  2.91315893,\n",
       "         3.58036169]),\n",
       " <a list of 10 Patch objects>)"
      ]
     },
     "execution_count": 6,
     "metadata": {},
     "output_type": "execute_result"
    },
    {
     "data": {
      "image/png": "[encoded data removed]",
      "text/plain": [
       "<Figure size 432x288 with 1 Axes>"
      ]
     },
     "metadata": {
      "needs_background": "light"
     },
     "output_type": "display_data"
    }
   ],
   "source": [
    "# horizontal orientation\n",
    "fig, ax = plt.subplots()\n",
    "ax.hist(data, orientation='horizontal')"
   ]
  },
  {
   "cell_type": "markdown",
   "metadata": {},
   "source": [
    "Here's how you can set the edge color:"
   ]
  },
  {
   "cell_type": "code",
   "execution_count": 7,
   "metadata": {},
   "outputs": [
    {
     "data": {
      "text/plain": [
       "(array([  9.,  30., 106., 188., 273., 215., 117.,  48.,  11.,   3.]),\n",
       " array([-3.09166593, -2.42446317, -1.7572604 , -1.09005764, -0.42285488,\n",
       "         0.24434788,  0.91155064,  1.57875341,  2.24595617,  2.91315893,\n",
       "         3.58036169]),\n",
       " <a list of 10 Patch objects>)"
      ]
     },
     "execution_count": 7,
     "metadata": {},
     "output_type": "execute_result"
    },
    {
     "data": {
      "image/png": "[encoded data removed]",
      "text/plain": [
       "<Figure size 432x288 with 1 Axes>"
      ]
     },
     "metadata": {
      "needs_background": "light"
     },
     "output_type": "display_data"
    }
   ],
   "source": [
    "# red edge\n",
    "fig, ax = plt.subplots()\n",
    "ax.hist(data, edgecolor='r')"
   ]
  },
  {
   "cell_type": "markdown",
   "metadata": {},
   "source": [
    "If you need logarithmic scale, you can set the log argument to True:"
   ]
  },
  {
   "cell_type": "code",
   "execution_count": 8,
   "metadata": {},
   "outputs": [
    {
     "data": {
      "text/plain": [
       "(array([  9.,  30., 106., 188., 273., 215., 117.,  48.,  11.,   3.]),\n",
       " array([-3.09166593, -2.42446317, -1.7572604 , -1.09005764, -0.42285488,\n",
       "         0.24434788,  0.91155064,  1.57875341,  2.24595617,  2.91315893,\n",
       "         3.58036169]),\n",
       " <a list of 10 Patch objects>)"
      ]
     },
     "execution_count": 8,
     "metadata": {},
     "output_type": "execute_result"
    },
    {
     "data": {
      "image/png": "[encoded data removed]",
      "text/plain": [
       "<Figure size 432x288 with 1 Axes>"
      ]
     },
     "metadata": {
      "needs_background": "light"
     },
     "output_type": "display_data"
    }
   ],
   "source": [
    "# logarithmic scale\n",
    "fig, ax = plt.subplots()\n",
    "ax.hist(data, log=True)"
   ]
  },
  {
   "cell_type": "markdown",
   "metadata": {},
   "source": [
    "You can also set the alpha value:"
   ]
  },
  {
   "cell_type": "code",
   "execution_count": 9,
   "metadata": {},
   "outputs": [
    {
     "data": {
      "text/plain": [
       "(array([  9.,  30., 106., 188., 273., 215., 117.,  48.,  11.,   3.]),\n",
       " array([-3.09166593, -2.42446317, -1.7572604 , -1.09005764, -0.42285488,\n",
       "         0.24434788,  0.91155064,  1.57875341,  2.24595617,  2.91315893,\n",
       "         3.58036169]),\n",
       " <a list of 10 Patch objects>)"
      ]
     },
     "execution_count": 9,
     "metadata": {},
     "output_type": "execute_result"
    },
    {
     "data": {
      "image/png": "[encoded data removed]",
      "text/plain": [
       "<Figure size 432x288 with 1 Axes>"
      ]
     },
     "metadata": {
      "needs_background": "light"
     },
     "output_type": "display_data"
    }
   ],
   "source": [
    "# alpha\n",
    "fig, ax = plt.subplots()\n",
    "ax.hist(data, alpha=.3)"
   ]
  },
  {
   "cell_type": "markdown",
   "metadata": {},
   "source": [
    "As usual, check out the documentation for more options."
   ]
  }
 ],
 "metadata": {
  "kernelspec": {
   "display_name": "Python 3",
   "language": "python",
   "name": "python3"
  },
  "language_info": {
   "codemirror_mode": {
    "name": "ipython",
    "version": 3
   },
   "file_extension": ".py",
   "mimetype": "text/x-python",
   "name": "python",
   "nbconvert_exporter": "python",
   "pygments_lexer": "ipython3",
   "version": "3.7.4"
  }
 },
 "nbformat": 4,
 "nbformat_minor": 2
}
