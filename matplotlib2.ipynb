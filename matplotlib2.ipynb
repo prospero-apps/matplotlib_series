{
 "cells": [
  {
   "cell_type": "markdown",
   "metadata": {},
   "source": [
    "Here's the code:"
   ]
  },
  {
   "cell_type": "code",
   "execution_count": 1,
   "metadata": {},
   "outputs": [
    {
     "data": {
      "text/plain": [
       "[<matplotlib.lines.Line2D at 0x28de4830208>]"
      ]
     },
     "execution_count": 1,
     "metadata": {},
     "output_type": "execute_result"
    },
    {
     "data": {
      "image/png": "[encoded data removed]",
      "text/plain": [
       "<Figure size 432x288 with 1 Axes>"
      ]
     },
     "metadata": {
      "needs_background": "light"
     },
     "output_type": "display_data"
    }
   ],
   "source": [
    "# This magic command is only used in the IPython environment,\n",
    "# so in the IPython console and in Jupyter Notebook. \n",
    "# It should be used only once per session, just like the imports \n",
    "# further down. If you use this command, all graphs will\n",
    "# be embedded directly in the notebook rather than displayed\n",
    "# in a separate window.\n",
    "%matplotlib inline\n",
    "\n",
    "# Here are the imports. Here you can also see the commonly\n",
    "# used aliases for matplotlib and matplotlib.pyplot.\n",
    "import matplotlib as mpl\n",
    "import matplotlib.pyplot as plt\n",
    "\n",
    "# We will also use numpy for this example.\n",
    "import numpy as np\n",
    "\n",
    "# And here's the example.\n",
    "# First let's create an array of 100 evenly spaced numbers\n",
    "# between -10 and 10. We can use the numpy linspace method\n",
    "# to do that. These are going to be the X-coordinates.\n",
    "# The method takes three parameters: the lower and upper\n",
    "# range and the number of items.\n",
    "x = np.linspace(-10, 10, 100)\n",
    "\n",
    "# Now we're going to plot the following quadratic function:\n",
    "# y = x ** 2 - 2 * x + 3, so we have:\n",
    "y = x ** 2 - 2 * x + 3\n",
    "\n",
    "# Now we have to generate the Figure instance and an Axes\n",
    "# instance. The terms FIGURE and AXES are among the basic\n",
    "# Matplotlib terms. A figure is the canvas area where one\n",
    "# or more Axes instances can be added. An Axes instance is\n",
    "# a region of the figure with its own individual coordinate\n",
    "# system. There may be one area instance, like in the example\n",
    "# below, but there may also be more.\n",
    "# We can use the plt.subplots function to create a figure\n",
    "# and an axis at the same time.\n",
    "fig, ax = plt.subplots()\n",
    "\n",
    "# And now let's finally plot the graph. Most functions we're \n",
    "# going to use are Axes methods.\n",
    "ax.plot(x, y)\n",
    "\n",
    "# Now hit Ctrl + Enter to execute the code."
   ]
  },
  {
   "cell_type": "markdown",
   "metadata": {},
   "source": [
    "This is just a very basic graph and we should definitely add some elements to it. We'll learn how to do it in the following parts of the series."
   ]
  }
 ],
 "metadata": {
  "kernelspec": {
   "display_name": "Python 3",
   "language": "python",
   "name": "python3"
  },
  "language_info": {
   "codemirror_mode": {
    "name": "ipython",
    "version": 3
   },
   "file_extension": ".py",
   "mimetype": "text/x-python",
   "name": "python",
   "nbconvert_exporter": "python",
   "pygments_lexer": "ipython3",
   "version": "3.7.4"
  }
 },
 "nbformat": 4,
 "nbformat_minor": 2
}
