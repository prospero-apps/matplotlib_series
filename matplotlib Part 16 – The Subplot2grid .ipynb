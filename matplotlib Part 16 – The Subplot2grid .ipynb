{
 "cells": [
  {
   "cell_type": "markdown",
   "metadata": {},
   "source": [
    "The Subplot2grid Layout Manager\n",
    "\n",
    "Most of the time we've been creating figures and axes using the plt.subplots method. Today let's have a look at a layout manager that can help us with it a little.\n",
    "\n",
    "The subplot2grid manager enables us to create Axes instances that span multiple rows and/or columns. To use the manager, we have to call the plt.subplot2grid method with some arguments. In particular, there are two mandatory arguments:\n",
    "\n",
    "- the shape of the axis, which is a tuple with two values: the number of rows and the number of columns\n",
    "- the starting position within the grid, which is a tuple with the row and column number where the Axes instance should start\n",
    "\n",
    "You can also use the optional rowspan and colspan arguments if you want the Axes instance to span several rows or columns respectively.\n",
    "\n",
    "Let's demonstrate the subplot2grid method on an example. Let's create a 4 x 4 grid (four rows, four columns) and then place some Axes instances in it. In the example below I also added some text annotations and removed the ticks for clarity's sake."
   ]
  },
  {
   "cell_type": "code",
   "execution_count": 19,
   "metadata": {},
   "outputs": [
    {
     "data": {
      "image/png": "[encoded data removed]",
      "text/plain": [
       "<Figure size 432x288 with 5 Axes>"
      ]
     },
     "metadata": {},
     "output_type": "display_data"
    }
   ],
   "source": [
    "%matplotlib inline\n",
    "import matplotlib as mpl\n",
    "import matplotlib.pyplot as plt\n",
    "import numpy as np\n",
    "\n",
    "# The first Axes instance should be in row 0, column 0.\n",
    "ax0 = plt.subplot2grid((4, 4), (0, 0))\n",
    "ax0.text(.5, .5, 'ax0')\n",
    "ax0.xaxis.set_major_locator(mpl.ticker.NullLocator())\n",
    "ax0.yaxis.set_major_locator(mpl.ticker.NullLocator())\n",
    "\n",
    "# The second Axes instance should start in row 0, column 1 and span two columns.\n",
    "ax1 = plt.subplot2grid((4, 4), (0, 1), colspan=2)\n",
    "ax1.text(.5, .5, 'ax1')\n",
    "ax1.xaxis.set_major_locator(mpl.ticker.NullLocator())\n",
    "ax1.yaxis.set_major_locator(mpl.ticker.NullLocator())\n",
    "\n",
    "# The third Axes instance should start in row 1, column 0 and span three rows.\n",
    "ax2 = plt.subplot2grid((4, 4), (1, 0), rowspan=3)\n",
    "ax2.text(.5, .5, 'ax2')\n",
    "ax2.xaxis.set_major_locator(mpl.ticker.NullLocator())\n",
    "ax2.yaxis.set_major_locator(mpl.ticker.NullLocator())\n",
    "\n",
    "# The fourth Axes instance should start in row 1, column 1 and span three rows and two columns.\n",
    "ax3 = plt.subplot2grid((4, 4), (1, 1), rowspan=3, colspan=2)\n",
    "ax3.text(.5, .5, 'ax3')\n",
    "ax3.xaxis.set_major_locator(mpl.ticker.NullLocator())\n",
    "ax3.yaxis.set_major_locator(mpl.ticker.NullLocator())\n",
    "\n",
    "# The fifth Axes instance should start in row 0, column 3 and span all four rows.\n",
    "ax4 = plt.subplot2grid((4, 4), (0, 3), rowspan=4)\n",
    "ax4.text(.5, .5, 'ax4')\n",
    "ax4.xaxis.set_major_locator(mpl.ticker.NullLocator())\n",
    "ax4.yaxis.set_major_locator(mpl.ticker.NullLocator())"
   ]
  }
 ],
 "metadata": {
  "kernelspec": {
   "display_name": "Python 3",
   "language": "python",
   "name": "python3"
  },
  "language_info": {
   "codemirror_mode": {
    "name": "ipython",
    "version": 3
   },
   "file_extension": ".py",
   "mimetype": "text/x-python",
   "name": "python",
   "nbconvert_exporter": "python",
   "pygments_lexer": "ipython3",
   "version": "3.7.4"
  }
 },
 "nbformat": 4,
 "nbformat_minor": 2
}
